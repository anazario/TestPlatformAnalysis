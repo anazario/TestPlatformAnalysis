{
 "cells": [
  {
   "cell_type": "code",
   "execution_count": 1,
   "id": "2ea6d18b",
   "metadata": {},
   "outputs": [],
   "source": [
    "import matplotlib.pyplot as plt\n",
    "import numpy as np"
   ]
  },
  {
   "cell_type": "code",
   "execution_count": 2,
   "id": "46b8dabf",
   "metadata": {},
   "outputs": [],
   "source": [
    "dataset = np.load(f'dataset.npz', allow_pickle=True)\n",
    "samples_x, reference_y = dataset['X'], dataset['y']\n",
    "\n",
    "#convert from sample time to ns\n",
    "samples_x_ns = samples_x*156\n",
    "reference_y_ns = reference_y*156"
   ]
  },
  {
   "cell_type": "code",
   "execution_count": 20,
   "id": "7fcc6340",
   "metadata": {},
   "outputs": [],
   "source": [
    "i = 1\n",
    "sample = samples_x_ns[i]\n",
    "t_truth = reference_y_ns[i]"
   ]
  },
  {
   "cell_type": "code",
   "execution_count": 21,
   "id": "d9873731",
   "metadata": {},
   "outputs": [
    {
     "name": "stdout",
     "output_type": "stream",
     "text": [
      "t_truth: 5176.66057850763\n"
     ]
    },
    {
     "data": {
      "image/png": "[encoded data removed]",
      "text/plain": [
       "<Figure size 432x288 with 1 Axes>"
      ]
     },
     "metadata": {
      "needs_background": "light"
     },
     "output_type": "display_data"
    }
   ],
   "source": [
    "plt.plot(sample,marker='.',linestyle=\"None\")\n",
    "print('t_truth:',t_truth)"
   ]
  },
  {
   "cell_type": "code",
   "execution_count": null,
   "id": "7fc6ac96",
   "metadata": {},
   "outputs": [],
   "source": []
  }
 ],
 "metadata": {
  "kernelspec": {
   "display_name": "Python 3",
   "language": "python",
   "name": "python3"
  },
  "language_info": {
   "codemirror_mode": {
    "name": "ipython",
    "version": 3
   },
   "file_extension": ".py",
   "mimetype": "text/x-python",
   "name": "python",
   "nbconvert_exporter": "python",
   "pygments_lexer": "ipython3",
   "version": "3.9.4"
  }
 },
 "nbformat": 4,
 "nbformat_minor": 5
}
