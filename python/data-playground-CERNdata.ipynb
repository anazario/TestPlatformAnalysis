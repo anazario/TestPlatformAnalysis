{
 "cells": [
  {
   "cell_type": "code",
   "execution_count": 1,
   "id": "2ea6d18b",
   "metadata": {
    "scrolled": true
   },
   "outputs": [],
   "source": [
    "import h5py\n",
    "import matplotlib.pyplot as plt\n",
    "import numpy as np\n",
    "from algorithms import algos\n",
    "from DataPrep import DataPrep"
   ]
  },
  {
   "cell_type": "code",
   "execution_count": 2,
   "id": "40f54f4f",
   "metadata": {},
   "outputs": [],
   "source": [
    "channels = [1,2,3,4]\n",
    "baseline_fraction = 0.3\n",
    "ref_ch = 1\n",
    "cfd_fraction = 0.4\n",
    "infile = '../data/source_coincidence_test10_Aug22.h5'\n",
    "amplitudeLimits = {1:(0.1,0.65), 2:(0.1,0.65), 3:(0.1,0.65), 4:(0.1,0.65)}\n",
    "\n",
    "smooth=False\n",
    "kernel_sigma=1\n",
    "kernel_width=5*kernel_sigma"
   ]
  },
  {
   "cell_type": "code",
   "execution_count": 3,
   "id": "feb632c5",
   "metadata": {},
   "outputs": [
    {
     "name": "stdout",
     "output_type": "stream",
     "text": [
      "CFD fraction: 0.4 baseline fraction: 0.3\n"
     ]
    }
   ],
   "source": [
    "dp = DataPrep(infile)\n",
    "ch = 1\n",
    "dp.prepAndCalculate(ch)\n",
    "cfds = dp.getCFDtimes()"
   ]
  },
  {
   "cell_type": "code",
   "execution_count": 5,
   "id": "47606a4a",
   "metadata": {},
   "outputs": [
    {
     "data": {
      "text/plain": [
       "Text(0.5, 0, 'time')"
      ]
     },
     "execution_count": 5,
     "metadata": {},
     "output_type": "execute_result"
    },
    {
     "data": {
      "image/png": "[encoded data removed]",
      "text/plain": [
       "<Figure size 432x288 with 1 Axes>"
      ]
     },
     "metadata": {
      "needs_background": "light"
     },
     "output_type": "display_data"
    },
    {
     "data": {
      "image/png": "[encoded data removed]",
      "text/plain": [
       "<Figure size 432x288 with 1 Axes>"
      ]
     },
     "metadata": {
      "needs_background": "light"
     },
     "output_type": "display_data"
    }
   ],
   "source": [
    "wfs = dp.getWaveforms()\n",
    "plt.plot(wfs[0],marker='.',linestyle='None')\n",
    "plt.xlabel(\"sample\")\n",
    "\n",
    "time = dp.getTimeAxis()\n",
    "plt.figure()\n",
    "plt.plot(time,wfs[0],marker='.',linestyle='None')\n",
    "plt.xlabel(\"time\")"
   ]
  },
  {
   "cell_type": "code",
   "execution_count": 5,
   "id": "9653a050",
   "metadata": {},
   "outputs": [
    {
     "data": {
      "text/plain": [
       "9138"
      ]
     },
     "execution_count": 5,
     "metadata": {},
     "output_type": "execute_result"
    }
   ],
   "source": [
    "cfds[0]\n",
    "len(cfds)"
   ]
  },
  {
   "cell_type": "code",
   "execution_count": 12,
   "id": "be42a75e",
   "metadata": {},
   "outputs": [
    {
     "name": "stdout",
     "output_type": "stream",
     "text": [
      "10000\n",
      "2.504989986514876\n"
     ]
    }
   ],
   "source": [
    "f = h5py.File(infile,'r')\n",
    "\n",
    "num_triggers = len(f['ch1_samples'])\n",
    "print(num_triggers)\n",
    "# num_triggers = 10000\n",
    "num_samples = len(f['ch1_samples'][0])\n",
    "time_begin = f['ch1_trig_offset'][0]*1e9\n",
    "time_end = f['ch1_horiz_scale'][0]*(num_samples-1)*1e9+time_begin\n",
    "time = np.linspace(time_begin, time_end, num_samples)\n",
    "sampling_freq = num_samples/(time_end-time_begin)\n",
    "print(sampling_freq)"
   ]
  },
  {
   "cell_type": "code",
   "execution_count": 13,
   "id": "ba9e7155",
   "metadata": {},
   "outputs": [],
   "source": [
    "amplitudes = {}\n",
    "amplitudesSelected = {}\n",
    "cfd_times = {}\n",
    "noise = {}\n",
    "riseTime = {}"
   ]
  },
  {
   "cell_type": "code",
   "execution_count": 32,
   "id": "47503d61",
   "metadata": {},
   "outputs": [
    {
     "name": "stdout",
     "output_type": "stream",
     "text": [
      "-0.1828447237782042\n"
     ]
    }
   ],
   "source": [
    "for channel in channels:\n",
    "    temp_cfd = []\n",
    "    temp_amp = []\n",
    "    temp_amp_selected = []\n",
    "    temp_noise = []\n",
    "    temp_riseTime = []\n",
    "    samples = f[f'ch{channel}_samples']\n",
    "    horiz_scale = f[f'ch{channel}_horiz_scale']\n",
    "    trig_offset = f[f'ch{channel}_trig_offset']\n",
    "    for trig in range(num_triggers):\n",
    "        waveform = samples[trig]\n",
    "        baseline_n = int(len(waveform)*baseline_fraction)\n",
    "        waveform = np.mean(waveform[:baseline_n]) - waveform\n",
    "        a = algos(waveform)\n",
    "        temp_noise.append(np.std(waveform[:baseline_n]))\n",
    "        amp = np.max(waveform)\n",
    "        temp_amp.append(amp)\n",
    "        \n",
    "        if amp>amplitudeLimits[channel][0] and amp<amplitudeLimits[channel][1]:\n",
    "            #cfd_val = cfd(waveform, threshold=amplitudeLimits[channel][0], base_line=baseline_n, fraction=cfd_fraction, smooth=smooth, kernel_width=kernel_width, kernel_sigma=kernel_sigma)\n",
    "            cfd_val = a.cfd(threshold=amplitudeLimits[channel][0],base_line = baseline_n, fraction=cfd_fraction, smooth=smooth, kernel_width=kernel_width, kernel_sigma=kernel_sigma)\n",
    "            if cfd_val is not None:\n",
    "                temp_cfd.append((cfd_val*horiz_scale[trig]+trig_offset[trig])*1e9)\n",
    "                temp_amp_selected.append(amp)\n",
    "                if channel == 1 and trig == 0:\n",
    "                    print((cfd_val*horiz_scale[trig]+trig_offset[trig])*1e9)\n",
    "            else:\n",
    "                temp_cfd.append(-900)\n",
    "            # Rise time:\n",
    "            #cfd_rt20 = cfd(waveform, threshold=amplitudeLimits[channel][0], base_line=baseline_n, fraction=0.2, smooth=False)\n",
    "            #cfd_rt80 = cfd(waveform, threshold=amplitudeLimits[channel][0], base_line=baseline_n, fraction=0.8, smooth=False)\n",
    "            cfd_rt20 = a.cfd(threshold=amplitudeLimits[channel][0], base_line=baseline_n, fraction=0.2, smooth=False)\n",
    "            cfd_rt80 = a.cfd(threshold=amplitudeLimits[channel][0], base_line=baseline_n, fraction=0.8, smooth=False)\n",
    "            if cfd_rt20 is not None and cfd_rt80 is not None:\n",
    "                temp_riseTime.append( (cfd_rt80-cfd_rt20)*horiz_scale[trig]*1e9 )\n",
    "            else:\n",
    "                temp_riseTime.append(-900)\n",
    "            \n",
    "        else:\n",
    "            temp_cfd.append(-900)\n",
    "            temp_riseTime.append(-900)\n",
    "            \n",
    "    cfd_times[channel] = np.array(temp_cfd)\n",
    "    amplitudes[channel] = np.array(temp_amp)\n",
    "    amplitudesSelected[channel] = np.array(temp_amp_selected)\n",
    "    noise[channel] = np.array(temp_noise)\n",
    "    riseTime[channel] = np.array(temp_riseTime)"
   ]
  },
  {
   "cell_type": "code",
   "execution_count": 75,
   "id": "13e95564",
   "metadata": {},
   "outputs": [
    {
     "name": "stdout",
     "output_type": "stream",
     "text": [
      "cfd_val: 249.74 cfd_val_adj: -0.1828447237782042\n",
      "horiz_scale: 4.000000053405728e-10 trig_offset: -1.0007884605753285e-07\n",
      "sampling frequency: 2.504989986514876\n"
     ]
    },
    {
     "data": {
      "text/plain": [
       "Text(0.5, 0, 'sample')"
      ]
     },
     "execution_count": 75,
     "metadata": {},
     "output_type": "execute_result"
    },
    {
     "data": {
      "image/png": "[encoded data removed]",
      "text/plain": [
       "<Figure size 432x288 with 1 Axes>"
      ]
     },
     "metadata": {
      "needs_background": "light"
     },
     "output_type": "display_data"
    },
    {
     "data": {
      "image/png": "[encoded data removed]",
      "text/plain": [
       "<Figure size 432x288 with 1 Axes>"
      ]
     },
     "metadata": {
      "needs_background": "light"
     },
     "output_type": "display_data"
    }
   ],
   "source": [
    "channel = 1\n",
    "samples = f[f'ch{channel}_samples']\n",
    "horiz_scale = f[f'ch{channel}_horiz_scale']\n",
    "trig_offset = f[f'ch{channel}_trig_offset']\n",
    "\n",
    "trig = 0\n",
    "waveform = samples[trig]\n",
    "baseline_n = int(len(waveform)*baseline_fraction)\n",
    "waveform = np.mean(waveform[:baseline_n]) - waveform\n",
    "a = algos(waveform)\n",
    "temp_noise.append(np.std(waveform[:baseline_n]))\n",
    "amp = np.max(waveform)\n",
    "\n",
    "\n",
    "plot_samples_begin = 240\n",
    "plot_samples_end = 275\n",
    "plot_num_samples = plot_samples_end - plot_samples_begin\n",
    "\n",
    "plt.plot(time[plot_samples_begin:plot_samples_end],waveform[plot_samples_begin:plot_samples_end],marker='.',linestyle='None')\n",
    "plt.xlabel(\"time\")\n",
    "\n",
    "\n",
    "if amp>amplitudeLimits[channel][0] and amp<amplitudeLimits[channel][1]:\n",
    "    #cfd_val = cfd(waveform, threshold=amplitudeLimits[channel][0], base_line=baseline_n, fraction=cfd_fraction, smooth=smooth, kernel_width=kernel_width, kernel_sigma=kernel_sigma)\n",
    "    cfd_val = a.cfd(threshold=amplitudeLimits[channel][0],base_line = baseline_n, fraction=cfd_fraction, smooth=smooth, kernel_width=kernel_width, kernel_sigma=kernel_sigma)\n",
    "    cfd_val_adj = (cfd_val*horiz_scale[trig]+trig_offset[trig])*1e9\n",
    "    if cfd_val is not None:\n",
    "        print(\"cfd_val:\",cfd_val,\"cfd_val_adj:\",cfd_val_adj)\n",
    "        print(\"horiz_scale:\",horiz_scale[trig],\"trig_offset:\",trig_offset[trig])\n",
    "\n",
    "print(\"sampling frequency:\",sampling_freq)           \n",
    "plt.vlines(cfd_val_adj,0,amp, color='red') \n",
    "plt.hlines(cfd_fraction*amp,-5,10, color='blue')\n",
    "plt.figure()\n",
    "plt.plot(waveform,marker='.',linestyle='None')\n",
    "plt.xlabel(\"sample\")\n",
    "                \n",
    "                "
   ]
  },
  {
   "cell_type": "code",
   "execution_count": null,
   "id": "067af4fa",
   "metadata": {},
   "outputs": [],
   "source": []
  }
 ],
 "metadata": {
  "kernelspec": {
   "display_name": "Python 3",
   "language": "python",
   "name": "python3"
  },
  "language_info": {
   "codemirror_mode": {
    "name": "ipython",
    "version": 3
   },
   "file_extension": ".py",
   "mimetype": "text/x-python",
   "name": "python",
   "nbconvert_exporter": "python",
   "pygments_lexer": "ipython3",
   "version": "3.9.4"
  }
 },
 "nbformat": 4,
 "nbformat_minor": 5
}
