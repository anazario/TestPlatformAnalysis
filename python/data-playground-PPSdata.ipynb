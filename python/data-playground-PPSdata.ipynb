{
 "cells": [
  {
   "cell_type": "code",
   "execution_count": 2,
   "id": "2ea6d18b",
   "metadata": {},
   "outputs": [],
   "source": [
    "import matplotlib.pyplot as plt\n",
    "import numpy as np"
   ]
  },
  {
   "cell_type": "code",
   "execution_count": null,
   "id": "40f54f4f",
   "metadata": {},
   "outputs": [],
   "source": [
    "channels = [1,2,3,4]\n",
    "baseline_fraction = 0.3\n",
    "ref_ch = 1\n",
    "cfd_fraction = 0.4\n",
    "infile = 'source_coincidence_test10.h5'\n",
    "amplitudeLimits = {1:(0.1,0.65), 2:(0.1,0.65), 3:(0.1,0.65), 4:(0.1,0.65)}\n",
    "\n",
    "smooth=False\n",
    "kernel_sigma=1\n",
    "kernel_width=5*kernel_sigma"
   ]
  },
  {
   "cell_type": "code",
   "execution_count": null,
   "id": "be42a75e",
   "metadata": {},
   "outputs": [],
   "source": [
    "f = h5py.File(infile,'r')\n",
    "\n",
    "num_triggers = len(f['ch1_samples'])\n",
    "print(num_triggers)\n",
    "# num_triggers = 10000\n",
    "num_samples = len(f['ch1_samples'][0])\n",
    "time_begin = f['ch1_trig_offset'][0]*1e9\n",
    "time_end = f['ch1_horiz_scale'][0]*(num_samples-1)*1e9+time_begin\n",
    "time = np.linspace(time_begin, time_end, num_samples)\n",
    "sampling_freq = num_samples/(time_end-time_begin)"
   ]
  },
  {
   "cell_type": "code",
   "execution_count": 3,
   "id": "46b8dabf",
   "metadata": {},
   "outputs": [],
   "source": [
    "dataset_PPS = np.load(f'dataset.npz', allow_pickle=True)\n",
    "samples_x, reference_y = dataset_PPS['X'], dataset_PPS['y']\n",
    "\n",
    "#convert from sample time to ns\n",
    "samples_x_ns = samples_x*156\n",
    "reference_y_ns = reference_y*156"
   ]
  },
  {
   "cell_type": "code",
   "execution_count": 4,
   "id": "7fcc6340",
   "metadata": {},
   "outputs": [],
   "source": [
    "i = 1\n",
    "sample = samples_x_ns[i]\n",
    "t_truth = reference_y_ns[i]"
   ]
  },
  {
   "cell_type": "code",
   "execution_count": 10,
   "id": "d9873731",
   "metadata": {},
   "outputs": [
    {
     "name": "stdout",
     "output_type": "stream",
     "text": [
      "t_ref: 5176.66057850763\n"
     ]
    },
    {
     "data": {
      "image/png": "[encoded data removed]",
      "text/plain": [
       "<Figure size 432x288 with 1 Axes>"
      ]
     },
     "metadata": {
      "needs_background": "light"
     },
     "output_type": "display_data"
    }
   ],
   "source": [
    "plt.plot(sample,marker='.',linestyle=\"None\")\n",
    "print('t_ref:',t_truth)"
   ]
  },
  {
   "cell_type": "code",
   "execution_count": 11,
   "id": "de7a5a82",
   "metadata": {},
   "outputs": [
    {
     "name": "stdout",
     "output_type": "stream",
     "text": [
      "t_ref: 31.629215454306458\n"
     ]
    },
    {
     "data": {
      "image/png": "[encoded data removed]",
      "text/plain": [
       "<Figure size 432x288 with 1 Axes>"
      ]
     },
     "metadata": {
      "needs_background": "light"
     },
     "output_type": "display_data"
    }
   ],
   "source": [
    "v, reft = dataset['X'], dataset['y']\n",
    "#To plot trigger 'i':\n",
    "t = np.linspace(0,len(v[0])*0.156,len(v[0]))\n",
    "i = 1\n",
    "plt.plot(t, v[i],marker='.',linestyle='None')\n",
    "plt.vlines(reft[i]*0.156,0,np.max(v[i]), color='red')\n",
    "print('t_ref:',reft[0])"
   ]
  },
  {
   "cell_type": "code",
   "execution_count": null,
   "id": "7fc6ac96",
   "metadata": {},
   "outputs": [],
   "source": []
  }
 ],
 "metadata": {
  "kernelspec": {
   "display_name": "Python 3",
   "language": "python",
   "name": "python3"
  },
  "language_info": {
   "codemirror_mode": {
    "name": "ipython",
    "version": 3
   },
   "file_extension": ".py",
   "mimetype": "text/x-python",
   "name": "python",
   "nbconvert_exporter": "python",
   "pygments_lexer": "ipython3",
   "version": "3.9.4"
  }
 },
 "nbformat": 4,
 "nbformat_minor": 5
}
