{
 "cells": [
  {
   "cell_type": "code",
   "execution_count": 1,
   "id": "053d77a2",
   "metadata": {
    "scrolled": true
   },
   "outputs": [
    {
     "name": "stdout",
     "output_type": "stream",
     "text": [
      "INFO:tensorflow:Enabling eager execution\n",
      "INFO:tensorflow:Enabling v2 tensorshape\n",
      "INFO:tensorflow:Enabling resource variables\n",
      "INFO:tensorflow:Enabling tensor equality\n",
      "INFO:tensorflow:Enabling control flow v2\n"
     ]
    }
   ],
   "source": [
    "import numpy as np\n",
    "import matplotlib.pyplot as plt\n",
    "from sklearn.model_selection import train_test_split\n",
    "from tensorflow.keras.layers import Input, Dense, Flatten, Conv2D\n",
    "from tensorflow.keras.optimizers import Adam\n",
    "from tensorflow.keras.models import Model\n",
    "from tensorflow.keras.losses import MeanAbsoluteError\n",
    "from tensorflow.keras.metrics import Accuracy\n",
    "from tensorflow import convert_to_tensor\n",
    "from algorithms import algos\n",
    "from DataPrep import DataPrep"
   ]
  },
  {
   "cell_type": "code",
   "execution_count": 2,
   "id": "73a7a2fd",
   "metadata": {},
   "outputs": [],
   "source": [
    "def show_loss(history):\n",
    "    plt.figure()\n",
    "    plt.plot(history.history['val_loss'], label=\"val loss\")\n",
    "    plt.plot(history.history['loss'],label=\"train loss\")\n",
    "    plt.title(\"Loss\")\n",
    "    plt.legend()"
   ]
  },
  {
   "cell_type": "code",
   "execution_count": 3,
   "id": "42bafac3",
   "metadata": {},
   "outputs": [],
   "source": [
    "#prep data first\n",
    "dp = DataPrep(f'dataset.npz')\n",
    "#x, y = dp.getSamples()\n",
    "x = dp.x_ns\n",
    "y = dp.y_ns\n",
    "x_train, x_test, y_train, y_test = train_test_split(x, y, test_size=0.2, random_state=42)"
   ]
  },
  {
   "cell_type": "code",
   "execution_count": 4,
   "id": "edf1db84",
   "metadata": {
    "scrolled": true
   },
   "outputs": [
    {
     "name": "stdout",
     "output_type": "stream",
     "text": [
      "ref_time 31.680178852183356\n"
     ]
    },
    {
     "data": {
      "image/png": "[encoded data removed]",
      "text/plain": [
       "<Figure size 432x288 with 1 Axes>"
      ]
     },
     "metadata": {
      "needs_background": "light"
     },
     "output_type": "display_data"
    }
   ],
   "source": [
    "plt.plot(x_train[0],marker='.',linestyle='')\n",
    "x_train[0][40:45]\n",
    "print('ref_time',y_train[0])"
   ]
  },
  {
   "cell_type": "code",
   "execution_count": 5,
   "id": "a1f5eb82",
   "metadata": {},
   "outputs": [
    {
     "data": {
      "text/plain": [
       "(15656, 64)"
      ]
     },
     "execution_count": 5,
     "metadata": {},
     "output_type": "execute_result"
    }
   ],
   "source": [
    "x_train.shape"
   ]
  },
  {
   "cell_type": "code",
   "execution_count": 6,
   "id": "868805c6",
   "metadata": {},
   "outputs": [
    {
     "name": "stdout",
     "output_type": "stream",
     "text": [
      "Model: \"model\"\n",
      "_________________________________________________________________\n",
      "Layer (type)                 Output Shape              Param #   \n",
      "=================================================================\n",
      "input_1 (InputLayer)         [(None, 64)]              0         \n",
      "_________________________________________________________________\n",
      "dense (Dense)                (None, 128)               8320      \n",
      "_________________________________________________________________\n",
      "dense_1 (Dense)              (None, 64)                8256      \n",
      "_________________________________________________________________\n",
      "dense_2 (Dense)              (None, 1)                 65        \n",
      "=================================================================\n",
      "Total params: 16,641\n",
      "Trainable params: 16,641\n",
      "Non-trainable params: 0\n",
      "_________________________________________________________________\n",
      "Epoch 1/5\n",
      "441/441 [==============================] - 2s 3ms/step - loss: 11.6711 - mean_absolute_error: 11.6710 - val_loss: 2.0299 - val_mean_absolute_error: 2.0302\n",
      "Epoch 2/5\n",
      "441/441 [==============================] - 1s 3ms/step - loss: 1.8556 - mean_absolute_error: 1.8556 - val_loss: 1.2686 - val_mean_absolute_error: 1.2687\n",
      "Epoch 3/5\n",
      "441/441 [==============================] - 1s 2ms/step - loss: 1.2022 - mean_absolute_error: 1.2022 - val_loss: 0.8975 - val_mean_absolute_error: 0.8976\n",
      "Epoch 4/5\n",
      "441/441 [==============================] - 1s 2ms/step - loss: 0.8228 - mean_absolute_error: 0.8228 - val_loss: 0.6098 - val_mean_absolute_error: 0.6098\n",
      "Epoch 5/5\n",
      "441/441 [==============================] - 1s 2ms/step - loss: 0.6308 - mean_absolute_error: 0.6308 - val_loss: 0.5267 - val_mean_absolute_error: 0.5267\n"
     ]
    },
    {
     "data": {
      "image/png": "[encoded data removed]",
      "text/plain": [
       "<Figure size 432x288 with 1 Axes>"
      ]
     },
     "metadata": {
      "needs_background": "light"
     },
     "output_type": "display_data"
    }
   ],
   "source": [
    "inputs = Input(shape=(64,))\n",
    "nn = Dense(128,activation='relu')(inputs)\n",
    "nn = Dense(64,activation='relu')(nn)\n",
    "outputs = Dense(1)(nn)\n",
    "\n",
    "opt = Adam()\n",
    "loss = MeanAbsoluteError()\n",
    "\n",
    "model = Model(inputs,outputs)\n",
    "model.summary()\n",
    "model.compile(optimizer=opt,loss=loss,metrics=[MeanAbsoluteError()])\n",
    "history = model.fit(x_train,y_train,validation_split=0.1,epochs=5)\n",
    "show_loss(history)"
   ]
  },
  {
   "cell_type": "code",
   "execution_count": 7,
   "id": "9f224ab0",
   "metadata": {},
   "outputs": [
    {
     "name": "stdout",
     "output_type": "stream",
     "text": [
      "Test Loss: 0.5453682 Test Accuracy: 0.82143515\n"
     ]
    }
   ],
   "source": [
    "MAE = MeanAbsoluteError()\n",
    "acc = Accuracy()\n",
    "#images_test_conv = np.reshape(images_test,(len(images_test),28,28,1))\n",
    "y_pred = model.predict(x_test)\n",
    "loss = MAE(\n",
    "\tconvert_to_tensor(y_test),\n",
    "\tconvert_to_tensor(y_pred)).numpy()\n",
    "accValue = MAE(y_test,y_pred).numpy()\n",
    "\n",
    "print(\"Test Loss:\",loss,\"Test Accuracy:\",accValue)\n"
   ]
  },
  {
   "cell_type": "code",
   "execution_count": 8,
   "id": "ea7e4117",
   "metadata": {},
   "outputs": [],
   "source": [
    "##compare DNN performance to CFD\n",
    "##quantify DNN performance: histogram of MAE?\n",
    "##compare network results with *scaled* (to ns) samples (save weights and run network on scaled samples)\n",
    "\n",
    "\n",
    "\n"
   ]
  }
 ],
 "metadata": {
  "kernelspec": {
   "display_name": "Python 3",
   "language": "python",
   "name": "python3"
  },
  "language_info": {
   "codemirror_mode": {
    "name": "ipython",
    "version": 3
   },
   "file_extension": ".py",
   "mimetype": "text/x-python",
   "name": "python",
   "nbconvert_exporter": "python",
   "pygments_lexer": "ipython3",
   "version": "3.9.4"
  }
 },
 "nbformat": 4,
 "nbformat_minor": 5
}
