{
 "cells": [
  {
   "cell_type": "code",
   "execution_count": 1,
   "id": "053d77a2",
   "metadata": {},
   "outputs": [
    {
     "name": "stdout",
     "output_type": "stream",
     "text": [
      "INFO:tensorflow:Enabling eager execution\n",
      "INFO:tensorflow:Enabling v2 tensorshape\n",
      "INFO:tensorflow:Enabling resource variables\n",
      "INFO:tensorflow:Enabling tensor equality\n",
      "INFO:tensorflow:Enabling control flow v2\n"
     ]
    }
   ],
   "source": [
    "import numpy as np\n",
    "import matplotlib.pyplot as plt\n",
    "from sklearn.model_selection import train_test_split\n",
    "from tensorflow.keras.layers import Input, Dense, Flatten, Conv2D\n",
    "from tensorflow.keras.optimizers import Adam\n",
    "from tensorflow.keras.models import Model\n",
    "from tensorflow.keras.losses import MeanAbsoluteError\n",
    "from tensorflow.keras.metrics import Accuracy\n",
    "from tensorflow import convert_to_tensor\n",
    "from algorithms import algos"
   ]
  },
  {
   "cell_type": "code",
   "execution_count": 2,
   "id": "73a7a2fd",
   "metadata": {},
   "outputs": [],
   "source": [
    "def show_loss(history):\n",
    "    plt.figure()\n",
    "    plt.plot(history.history['val_loss'], label=\"val loss\")\n",
    "    plt.plot(history.history['loss'],label=\"train loss\")\n",
    "    plt.title(\"Loss\")\n",
    "    plt.legend()"
   ]
  },
  {
   "cell_type": "code",
   "execution_count": 3,
   "id": "42bafac3",
   "metadata": {},
   "outputs": [],
   "source": [
    "dataset = np.load(f'dataset.npz', allow_pickle=True)\n",
    "samples_x, reference_y = dataset['X'], dataset['y']\n",
    "\n",
    "#convert from sample time to ns\n",
    "samples_x_ns = samples_x*156\n",
    "reference_y_ns = reference_y*156\n"
   ]
  },
  {
   "cell_type": "code",
   "execution_count": 4,
   "id": "cee49de9",
   "metadata": {},
   "outputs": [
    {
     "name": "stdout",
     "output_type": "stream",
     "text": [
      "<class 'numpy.ndarray'>\n"
     ]
    },
    {
     "data": {
      "text/plain": [
       "(19570, 64)"
      ]
     },
     "execution_count": 4,
     "metadata": {},
     "output_type": "execute_result"
    }
   ],
   "source": [
    "print(type(samples_x))\n",
    "np.shape(samples_x)"
   ]
  },
  {
   "cell_type": "code",
   "execution_count": 5,
   "id": "fd2fbddc",
   "metadata": {},
   "outputs": [],
   "source": [
    "#split into train/test sets\n",
    "#use samples_x_ns and reference_y_ns for ns inputs\n",
    "x_train, x_test, y_train, y_test = train_test_split(samples_x, reference_y, test_size=0.2, random_state=42)\n"
   ]
  },
  {
   "cell_type": "code",
   "execution_count": 6,
   "id": "edf1db84",
   "metadata": {},
   "outputs": [
    {
     "data": {
      "text/plain": [
       "array([ 96.37925434, 103.12993562, 107.8810401 , 108.67960346,\n",
       "       107.34786487])"
      ]
     },
     "execution_count": 6,
     "metadata": {},
     "output_type": "execute_result"
    },
    {
     "data": {
      "image/png": "[encoded data removed]",
      "text/plain": [
       "<Figure size 432x288 with 1 Axes>"
      ]
     },
     "metadata": {
      "needs_background": "light"
     },
     "output_type": "display_data"
    }
   ],
   "source": [
    "plt.plot(samples_x_ns[0],marker='.',linestyle='')\n",
    "samples_x_ns[0][40:45]"
   ]
  },
  {
   "cell_type": "code",
   "execution_count": 7,
   "id": "a1f5eb82",
   "metadata": {},
   "outputs": [
    {
     "data": {
      "text/plain": [
       "(15656, 64)"
      ]
     },
     "execution_count": 7,
     "metadata": {},
     "output_type": "execute_result"
    }
   ],
   "source": [
    "x_train.shape"
   ]
  },
  {
   "cell_type": "code",
   "execution_count": 8,
   "id": "868805c6",
   "metadata": {},
   "outputs": [
    {
     "name": "stdout",
     "output_type": "stream",
     "text": [
      "Model: \"model\"\n",
      "_________________________________________________________________\n",
      "Layer (type)                 Output Shape              Param #   \n",
      "=================================================================\n",
      "input_1 (InputLayer)         [(None, 64)]              0         \n",
      "_________________________________________________________________\n",
      "dense (Dense)                (None, 128)               8320      \n",
      "_________________________________________________________________\n",
      "dense_1 (Dense)              (None, 64)                8256      \n",
      "_________________________________________________________________\n",
      "dense_2 (Dense)              (None, 1)                 65        \n",
      "=================================================================\n",
      "Total params: 16,641\n",
      "Trainable params: 16,641\n",
      "Non-trainable params: 0\n",
      "_________________________________________________________________\n",
      "Epoch 1/5\n",
      "441/441 [==============================] - 2s 2ms/step - loss: 11.3850 - mean_absolute_error: 11.3850 - val_loss: 1.8534 - val_mean_absolute_error: 1.8535\n",
      "Epoch 2/5\n",
      "441/441 [==============================] - 1s 2ms/step - loss: 1.6732 - mean_absolute_error: 1.6732 - val_loss: 1.0664 - val_mean_absolute_error: 1.0665\n",
      "Epoch 3/5\n",
      "441/441 [==============================] - 1s 2ms/step - loss: 1.0170 - mean_absolute_error: 1.0170 - val_loss: 0.7263 - val_mean_absolute_error: 0.7263\n",
      "Epoch 4/5\n",
      "441/441 [==============================] - 1s 3ms/step - loss: 0.7192 - mean_absolute_error: 0.7192 - val_loss: 0.5891 - val_mean_absolute_error: 0.5892\n",
      "Epoch 5/5\n",
      "441/441 [==============================] - 1s 2ms/step - loss: 0.5770 - mean_absolute_error: 0.5770 - val_loss: 0.4422 - val_mean_absolute_error: 0.4422\n"
     ]
    },
    {
     "data": {
      "image/png": "[encoded data removed]",
      "text/plain": [
       "<Figure size 432x288 with 1 Axes>"
      ]
     },
     "metadata": {
      "needs_background": "light"
     },
     "output_type": "display_data"
    }
   ],
   "source": [
    "inputs = Input(shape=(64,))\n",
    "nn = Dense(128,activation='relu')(inputs)\n",
    "nn = Dense(64,activation='relu')(nn)\n",
    "outputs = Dense(1)(nn)\n",
    "\n",
    "opt = Adam()\n",
    "loss = MeanAbsoluteError()\n",
    "\n",
    "model = Model(inputs,outputs)\n",
    "model.summary()\n",
    "model.compile(optimizer=opt,loss=loss,metrics=[MeanAbsoluteError()])\n",
    "history = model.fit(x_train,y_train,validation_split=0.1,epochs=5)\n",
    "show_loss(history)"
   ]
  },
  {
   "cell_type": "code",
   "execution_count": 9,
   "id": "9f224ab0",
   "metadata": {},
   "outputs": [
    {
     "name": "stdout",
     "output_type": "stream",
     "text": [
      "Test Loss: 0.438614 Test Accuracy: 0.7519319\n"
     ]
    }
   ],
   "source": [
    "MAE = MeanAbsoluteError()\n",
    "acc = Accuracy()\n",
    "#images_test_conv = np.reshape(images_test,(len(images_test),28,28,1))\n",
    "y_pred = model.predict(x_test)\n",
    "loss = MAE(\n",
    "\tconvert_to_tensor(y_test),\n",
    "\tconvert_to_tensor(y_pred)).numpy()\n",
    "accValue = MAE(y_test,y_pred).numpy()\n",
    "\n",
    "print(\"Test Loss:\",loss,\"Test Accuracy:\",accValue)\n"
   ]
  },
  {
   "cell_type": "code",
   "execution_count": 10,
   "id": "ea7e4117",
   "metadata": {},
   "outputs": [],
   "source": [
    "##compare DNN performance to CFD\n",
    "##quantify DNN performance: histogram of MAE?\n",
    "##compare network results with *scaled* (to ns) samples (save weights and run network on scaled samples)\n",
    "\n",
    "\n",
    "aa = algos(x_test) #fix this init function to take multiple sets of samples\n",
    "\n"
   ]
  }
 ],
 "metadata": {
  "kernelspec": {
   "display_name": "Python 3",
   "language": "python",
   "name": "python3"
  },
  "language_info": {
   "codemirror_mode": {
    "name": "ipython",
    "version": 3
   },
   "file_extension": ".py",
   "mimetype": "text/x-python",
   "name": "python",
   "nbconvert_exporter": "python",
   "pygments_lexer": "ipython3",
   "version": "3.9.4"
  }
 },
 "nbformat": 4,
 "nbformat_minor": 5
}
