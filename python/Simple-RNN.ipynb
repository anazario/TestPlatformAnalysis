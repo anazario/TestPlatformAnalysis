{
 "cells": [
  {
   "cell_type": "code",
   "execution_count": 1,
   "id": "053d77a2",
   "metadata": {},
   "outputs": [
    {
     "name": "stdout",
     "output_type": "stream",
     "text": [
      "INFO:tensorflow:Enabling eager execution\n",
      "INFO:tensorflow:Enabling v2 tensorshape\n",
      "INFO:tensorflow:Enabling resource variables\n",
      "INFO:tensorflow:Enabling tensor equality\n",
      "INFO:tensorflow:Enabling control flow v2\n"
     ]
    }
   ],
   "source": [
    "import numpy as np\n",
    "import matplotlib.pyplot as plt\n",
    "from sklearn.model_selection import train_test_split\n",
    "from tensorflow.keras.layers import SimpleRNN, Input, Dense, Embedding\n",
    "from tensorflow.keras.optimizers import Adam\n",
    "from tensorflow.keras.models import Model\n",
    "from tensorflow.keras.losses import MeanAbsoluteError\n",
    "from tensorflow.keras.metrics import Accuracy\n",
    "from tensorflow import convert_to_tensor\n",
    "from DataPrep import DataPrep"
   ]
  },
  {
   "cell_type": "code",
   "execution_count": 2,
   "id": "73a7a2fd",
   "metadata": {},
   "outputs": [],
   "source": [
    "def show_loss(history):\n",
    "    plt.figure()\n",
    "    plt.plot(history.history['val_loss'], label=\"val loss\")\n",
    "    plt.plot(history.history['loss'],label=\"train loss\")\n",
    "    plt.title(\"Loss\")\n",
    "    plt.legend()"
   ]
  },
  {
   "cell_type": "code",
   "execution_count": 3,
   "id": "42bafac3",
   "metadata": {},
   "outputs": [],
   "source": [
    "#prep data first\n",
    "dp = DataPrep(f'dataset.npz')\n",
    "#x, y = dp.getSamples()\n",
    "x = dp.x_ns\n",
    "y = dp.y_ns\n",
    "x_train, x_test, y_train, y_test = train_test_split(x, y, test_size=0.2, random_state=42)"
   ]
  },
  {
   "cell_type": "code",
   "execution_count": 4,
   "id": "edf1db84",
   "metadata": {
    "scrolled": false
   },
   "outputs": [
    {
     "data": {
      "text/plain": [
       "31.680178852183356"
      ]
     },
     "execution_count": 4,
     "metadata": {},
     "output_type": "execute_result"
    },
    {
     "data": {
      "image/png": "[encoded data removed]",
      "text/plain": [
       "<Figure size 432x288 with 1 Axes>"
      ]
     },
     "metadata": {
      "needs_background": "light"
     },
     "output_type": "display_data"
    }
   ],
   "source": [
    "plt.plot(x_train[0],marker='.',linestyle='')\n",
    "y_train[0]"
   ]
  },
  {
   "cell_type": "code",
   "execution_count": 5,
   "id": "e68bfa1f",
   "metadata": {},
   "outputs": [
    {
     "data": {
      "text/plain": [
       "(15656, 64)"
      ]
     },
     "execution_count": 5,
     "metadata": {},
     "output_type": "execute_result"
    }
   ],
   "source": [
    "x_train.shape"
   ]
  },
  {
   "cell_type": "code",
   "execution_count": 6,
   "id": "868805c6",
   "metadata": {},
   "outputs": [
    {
     "name": "stdout",
     "output_type": "stream",
     "text": [
      "Model: \"model\"\n",
      "_________________________________________________________________\n",
      "Layer (type)                 Output Shape              Param #   \n",
      "=================================================================\n",
      "input_1 (InputLayer)         [(None, 64, 1)]           0         \n",
      "_________________________________________________________________\n",
      "RNN_layer (SimpleRNN)        (None, 64)                4224      \n",
      "_________________________________________________________________\n",
      "dense (Dense)                (None, 1)                 65        \n",
      "=================================================================\n",
      "Total params: 4,289\n",
      "Trainable params: 4,289\n",
      "Non-trainable params: 0\n",
      "_________________________________________________________________\n",
      "Epoch 1/5\n",
      "1409/1409 [==============================] - 20s 13ms/step - loss: 6.9771 - mean_absolute_error: 6.9771 - val_loss: 1.2580 - val_mean_absolute_error: 1.2578\n",
      "Epoch 2/5\n",
      "1409/1409 [==============================] - 23s 16ms/step - loss: 1.6716 - mean_absolute_error: 1.6716 - val_loss: 1.4917 - val_mean_absolute_error: 1.4915\n",
      "Epoch 3/5\n",
      "1409/1409 [==============================] - 17s 12ms/step - loss: 1.3759 - mean_absolute_error: 1.3759 - val_loss: 3.2334 - val_mean_absolute_error: 3.2337\n",
      "Epoch 4/5\n",
      "1409/1409 [==============================] - 18s 13ms/step - loss: 1.3742 - mean_absolute_error: 1.3742 - val_loss: 0.7043 - val_mean_absolute_error: 0.7050\n",
      "Epoch 5/5\n",
      "1409/1409 [==============================] - 17s 12ms/step - loss: 1.1854 - mean_absolute_error: 1.1854 - val_loss: 0.9610 - val_mean_absolute_error: 0.9608\n"
     ]
    },
    {
     "data": {
      "image/png": "[encoded data removed]",
      "text/plain": [
       "<Figure size 432x288 with 1 Axes>"
      ]
     },
     "metadata": {
      "needs_background": "light"
     },
     "output_type": "display_data"
    }
   ],
   "source": [
    "inputs = Input(shape=(64,1))\n",
    "nn = SimpleRNN(64,activation='relu',name='RNN_layer')(inputs)\n",
    "outputs = Dense(1)(nn)\n",
    "\n",
    "opt = Adam()\n",
    "loss = MeanAbsoluteError()\n",
    "\n",
    "model = Model(inputs,outputs)\n",
    "model.summary()\n",
    "model.compile(optimizer=opt,loss=loss,metrics=[MeanAbsoluteError()])\n",
    "history = model.fit(x_train,y_train,validation_split=0.1,epochs=5,batch_size=10)\n",
    "show_loss(history)"
   ]
  },
  {
   "cell_type": "code",
   "execution_count": 7,
   "id": "9f224ab0",
   "metadata": {},
   "outputs": [
    {
     "name": "stdout",
     "output_type": "stream",
     "text": [
      "Test Loss: 0.95974004 Test Accuracy: 1.0601546\n"
     ]
    }
   ],
   "source": [
    "MAE = MeanAbsoluteError()\n",
    "acc = Accuracy()\n",
    "#images_test_conv = np.reshape(images_test,(len(images_test),28,28,1))\n",
    "y_pred = model.predict(x_test)\n",
    "loss = MAE(\n",
    "\tconvert_to_tensor(y_test),\n",
    "\tconvert_to_tensor(y_pred)).numpy()\n",
    "accValue = MAE(y_test,y_pred).numpy()\n",
    "\n",
    "print(\"Test Loss:\",loss,\"Test Accuracy:\",accValue)\n"
   ]
  },
  {
   "cell_type": "code",
   "execution_count": 8,
   "id": "ea7e4117",
   "metadata": {},
   "outputs": [],
   "source": [
    "##compare DNN performance to CFD\n",
    "##quantify DNN performance: histogram of MAE?\n",
    "##compare network results with *scaled* (to ns) samples (save weights and run network on scaled samples)"
   ]
  }
 ],
 "metadata": {
  "kernelspec": {
   "display_name": "Python 3",
   "language": "python",
   "name": "python3"
  },
  "language_info": {
   "codemirror_mode": {
    "name": "ipython",
    "version": 3
   },
   "file_extension": ".py",
   "mimetype": "text/x-python",
   "name": "python",
   "nbconvert_exporter": "python",
   "pygments_lexer": "ipython3",
   "version": "3.9.4"
  }
 },
 "nbformat": 4,
 "nbformat_minor": 5
}
