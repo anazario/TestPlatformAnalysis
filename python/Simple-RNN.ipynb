{
 "cells": [
  {
   "cell_type": "code",
   "execution_count": 1,
   "id": "053d77a2",
   "metadata": {},
   "outputs": [
    {
     "name": "stdout",
     "output_type": "stream",
     "text": [
      "INFO:tensorflow:Enabling eager execution\n",
      "INFO:tensorflow:Enabling v2 tensorshape\n",
      "INFO:tensorflow:Enabling resource variables\n",
      "INFO:tensorflow:Enabling tensor equality\n",
      "INFO:tensorflow:Enabling control flow v2\n"
     ]
    }
   ],
   "source": [
    "import numpy as np\n",
    "import matplotlib.pyplot as plt\n",
    "from sklearn.model_selection import train_test_split\n",
    "from tensorflow.keras.layers import SimpleRNN, Input, Dense, Embedding\n",
    "from tensorflow.keras.optimizers import Adam\n",
    "from tensorflow.keras.models import Model\n",
    "from tensorflow.keras.losses import MeanAbsoluteError\n",
    "from tensorflow.keras.metrics import Accuracy\n",
    "from tensorflow import convert_to_tensor"
   ]
  },
  {
   "cell_type": "code",
   "execution_count": 2,
   "id": "73a7a2fd",
   "metadata": {},
   "outputs": [],
   "source": [
    "def show_loss(history):\n",
    "    plt.figure()\n",
    "    plt.plot(history.history['val_loss'], label=\"val loss\")\n",
    "    plt.plot(history.history['loss'],label=\"train loss\")\n",
    "    plt.title(\"Loss\")\n",
    "    plt.legend()"
   ]
  },
  {
   "cell_type": "code",
   "execution_count": 3,
   "id": "42bafac3",
   "metadata": {},
   "outputs": [],
   "source": [
    "dataset = np.load(f'dataset.npz', allow_pickle=True)\n",
    "samples_x, reference_y = dataset['X'], dataset['y']\n",
    "\n",
    "#convert from sample time to ns\n",
    "samples_x_ns = samples_x*156\n",
    "reference_y_ns = reference_y*156\n"
   ]
  },
  {
   "cell_type": "code",
   "execution_count": 4,
   "id": "cee49de9",
   "metadata": {},
   "outputs": [
    {
     "name": "stdout",
     "output_type": "stream",
     "text": [
      "<class 'numpy.ndarray'>\n"
     ]
    },
    {
     "data": {
      "text/plain": [
       "(19570, 64)"
      ]
     },
     "execution_count": 4,
     "metadata": {},
     "output_type": "execute_result"
    }
   ],
   "source": [
    "print(type(samples_x))\n",
    "np.shape(samples_x)"
   ]
  },
  {
   "cell_type": "code",
   "execution_count": 5,
   "id": "fd2fbddc",
   "metadata": {},
   "outputs": [],
   "source": [
    "#split into train/test sets\n",
    "#use samples_x_ns and reference_y_ns for ns inputs\n",
    "x_train, x_test, y_train, y_test = train_test_split(samples_x, reference_y, test_size=0.2, random_state=42)\n"
   ]
  },
  {
   "cell_type": "code",
   "execution_count": 6,
   "id": "edf1db84",
   "metadata": {},
   "outputs": [
    {
     "data": {
      "text/plain": [
       "[<matplotlib.lines.Line2D at 0x7fb7c39dc1f0>]"
      ]
     },
     "execution_count": 6,
     "metadata": {},
     "output_type": "execute_result"
    },
    {
     "data": {
      "image/png": "[encoded data removed]",
      "text/plain": [
       "<Figure size 432x288 with 1 Axes>"
      ]
     },
     "metadata": {
      "needs_background": "light"
     },
     "output_type": "display_data"
    }
   ],
   "source": [
    "plt.plot(samples_x_ns[0],marker='.',linestyle='')\n",
    "#samples_x_ns[0][40:45]"
   ]
  },
  {
   "cell_type": "code",
   "execution_count": 7,
   "id": "e68bfa1f",
   "metadata": {},
   "outputs": [
    {
     "data": {
      "text/plain": [
       "(15656, 64)"
      ]
     },
     "execution_count": 7,
     "metadata": {},
     "output_type": "execute_result"
    }
   ],
   "source": [
    "x_train.shape"
   ]
  },
  {
   "cell_type": "code",
   "execution_count": 11,
   "id": "868805c6",
   "metadata": {},
   "outputs": [
    {
     "name": "stdout",
     "output_type": "stream",
     "text": [
      "Model: \"model_2\"\n",
      "_________________________________________________________________\n",
      "Layer (type)                 Output Shape              Param #   \n",
      "=================================================================\n",
      "input_3 (InputLayer)         [(None, 64, 1)]           0         \n",
      "_________________________________________________________________\n",
      "RNN_layer (SimpleRNN)        (None, 64)                4224      \n",
      "_________________________________________________________________\n",
      "dense_2 (Dense)              (None, 1)                 65        \n",
      "=================================================================\n",
      "Total params: 4,289\n",
      "Trainable params: 4,289\n",
      "Non-trainable params: 0\n",
      "_________________________________________________________________\n",
      "Epoch 1/5\n",
      "1409/1409 [==============================] - 18s 12ms/step - loss: 5.1229 - mean_absolute_error: 5.1229 - val_loss: 1.7152 - val_mean_absolute_error: 1.7150\n",
      "Epoch 2/5\n",
      "1409/1409 [==============================] - 20s 14ms/step - loss: 2.1873 - mean_absolute_error: 2.1873 - val_loss: 2.9075 - val_mean_absolute_error: 2.9074\n",
      "Epoch 3/5\n",
      "1409/1409 [==============================] - 20s 14ms/step - loss: 1.7864 - mean_absolute_error: 1.7864 - val_loss: 2.0443 - val_mean_absolute_error: 2.0441\n",
      "Epoch 4/5\n",
      "1409/1409 [==============================] - 18s 13ms/step - loss: 1.6088 - mean_absolute_error: 1.6088 - val_loss: 0.6422 - val_mean_absolute_error: 0.6427\n",
      "Epoch 5/5\n",
      "1409/1409 [==============================] - 17s 12ms/step - loss: 1.2998 - mean_absolute_error: 1.2998 - val_loss: 0.6593 - val_mean_absolute_error: 0.6601\n"
     ]
    },
    {
     "data": {
      "image/png": "[encoded data removed]",
      "text/plain": [
       "<Figure size 432x288 with 1 Axes>"
      ]
     },
     "metadata": {
      "needs_background": "light"
     },
     "output_type": "display_data"
    }
   ],
   "source": [
    "inputs = Input(shape=(64,1))\n",
    "nn = SimpleRNN(64,activation='relu',name='RNN_layer')(inputs)\n",
    "outputs = Dense(1)(nn)\n",
    "\n",
    "opt = Adam()\n",
    "loss = MeanAbsoluteError()\n",
    "\n",
    "model = Model(inputs,outputs)\n",
    "model.summary()\n",
    "model.compile(optimizer=opt,loss=loss,metrics=[MeanAbsoluteError()])\n",
    "history = model.fit(x_train,y_train,validation_split=0.1,epochs=5,batch_size=10)\n",
    "show_loss(history)"
   ]
  },
  {
   "cell_type": "code",
   "execution_count": 10,
   "id": "9f224ab0",
   "metadata": {},
   "outputs": [
    {
     "name": "stdout",
     "output_type": "stream",
     "text": [
      "Test Loss: 0.73469555 Test Accuracy: 0.9173739\n"
     ]
    }
   ],
   "source": [
    "MAE = MeanAbsoluteError()\n",
    "acc = Accuracy()\n",
    "#images_test_conv = np.reshape(images_test,(len(images_test),28,28,1))\n",
    "y_pred = model.predict(x_test)\n",
    "loss = MAE(\n",
    "\tconvert_to_tensor(y_test),\n",
    "\tconvert_to_tensor(y_pred)).numpy()\n",
    "accValue = MAE(y_test,y_pred).numpy()\n",
    "\n",
    "print(\"Test Loss:\",loss,\"Test Accuracy:\",accValue)\n"
   ]
  },
  {
   "cell_type": "code",
   "execution_count": null,
   "id": "ea7e4117",
   "metadata": {},
   "outputs": [],
   "source": [
    "##compare DNN performance to CFD\n",
    "##quantify DNN performance: histogram of MAE?\n",
    "##compare network results with *scaled* (to ns) samples (save weights and run network on scaled samples)"
   ]
  }
 ],
 "metadata": {
  "kernelspec": {
   "display_name": "Python 3",
   "language": "python",
   "name": "python3"
  },
  "language_info": {
   "codemirror_mode": {
    "name": "ipython",
    "version": 3
   },
   "file_extension": ".py",
   "mimetype": "text/x-python",
   "name": "python",
   "nbconvert_exporter": "python",
   "pygments_lexer": "ipython3",
   "version": "3.9.4"
  }
 },
 "nbformat": 4,
 "nbformat_minor": 5
}
