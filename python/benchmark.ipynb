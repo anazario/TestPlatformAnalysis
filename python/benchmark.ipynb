{
 "cells": [
  {
   "cell_type": "code",
   "execution_count": 1,
   "id": "c05a163d",
   "metadata": {},
   "outputs": [],
   "source": [
    "from algorithms import algos\n",
    "from DataPrep import DataPrep\n",
    "import numpy as np\n",
    "from sklearn.model_selection import train_test_split\n",
    "import matplotlib.pyplot as plt"
   ]
  },
  {
   "cell_type": "code",
   "execution_count": 2,
   "id": "9950096b",
   "metadata": {},
   "outputs": [],
   "source": [
    "#prep data first\n",
    "dp = DataPrep(f'dataset.npz')\n",
    "#x, y = dp.getSamples()\n",
    "x = dp.x_ns\n",
    "y = dp.y_ns\n",
    "x_train, x_test, y_train, y_test = train_test_split(x, y, test_size=0.2, random_state=42)"
   ]
  },
  {
   "cell_type": "code",
   "execution_count": 8,
   "id": "704f0ff3",
   "metadata": {
    "scrolled": true
   },
   "outputs": [],
   "source": [
    "#declare algorithm object\n",
    "cfds = []\n",
    "for i,x in enumerate(x_train):\n",
    "    algo = algos(x)\n",
    "    cfd = algo.cfd()\n",
    "    if cfd is not None:\n",
    "        cfds.append(cfd)\n",
    "    #print(i,cfd)"
   ]
  },
  {
   "cell_type": "code",
   "execution_count": 22,
   "id": "f3cb88cb",
   "metadata": {},
   "outputs": [
    {
     "name": "stdout",
     "output_type": "stream",
     "text": [
      "Fraction of waveforms with CFD times: 0.83\n",
      "mean CFD time 35.03\n",
      "variance of CFD time: 0.26\n"
     ]
    },
    {
     "data": {
      "image/png": "[encoded data removed]",
      "text/plain": [
       "<Figure size 432x288 with 1 Axes>"
      ]
     },
     "metadata": {
      "needs_background": "light"
     },
     "output_type": "display_data"
    }
   ],
   "source": [
    "print(\"Fraction of waveforms with CFD times:\",round(len(cfds)/len(x_train),2))\n",
    "plt.hist(cfds,bins=30)\n",
    "plt.title(\"Distribution of times calculated by CFD\")\n",
    "mean_cfd = np.mean(cfds)\n",
    "var_cfd = np.var(cfds)\n",
    "print(\"mean CFD time\",round(mean_cfd,2))\n",
    "print(\"variance of CFD time:\",round(var_cfd,2))"
   ]
  },
  {
   "cell_type": "code",
   "execution_count": 16,
   "id": "23320e7b",
   "metadata": {
    "scrolled": true
   },
   "outputs": [
    {
     "name": "stdout",
     "output_type": "stream",
     "text": [
      "Reference time for first waveform 4942.107900940604\n"
     ]
    }
   ],
   "source": [
    "print(\"Reference time for first waveform:\",y_train[0])"
   ]
  },
  {
   "cell_type": "code",
   "execution_count": null,
   "id": "a1b85ba4",
   "metadata": {},
   "outputs": [],
   "source": []
  }
 ],
 "metadata": {
  "kernelspec": {
   "display_name": "Python 3",
   "language": "python",
   "name": "python3"
  },
  "language_info": {
   "codemirror_mode": {
    "name": "ipython",
    "version": 3
   },
   "file_extension": ".py",
   "mimetype": "text/x-python",
   "name": "python",
   "nbconvert_exporter": "python",
   "pygments_lexer": "ipython3",
   "version": "3.9.4"
  }
 },
 "nbformat": 4,
 "nbformat_minor": 5
}
