{
 "cells": [
  {
   "cell_type": "code",
   "execution_count": 1,
   "id": "00a082ec",
   "metadata": {},
   "outputs": [],
   "source": [
    "from algorithms import algos\n",
    "from DataPrep import DataPrep\n",
    "import numpy as np\n",
    "from sklearn.model_selection import train_test_split\n",
    "import matplotlib.pyplot as plt"
   ]
  },
  {
   "cell_type": "code",
   "execution_count": 2,
   "id": "8d5923a5",
   "metadata": {},
   "outputs": [],
   "source": [
    "#prep data first\n",
    "dp = DataPrep(f'dataset.npz')\n",
    "#x, y = dp.getSamples()\n",
    "x = dp.x_ns\n",
    "y = dp.y_ns\n",
    "x_train, x_test, y_train, y_test = train_test_split(x, y, test_size=0.2, random_state=42)"
   ]
  },
  {
   "cell_type": "code",
   "execution_count": 3,
   "id": "094fbd91",
   "metadata": {
    "scrolled": true
   },
   "outputs": [],
   "source": [
    "#declare algorithm object\n",
    "cfds = []\n",
    "for i,x in enumerate(x_train):\n",
    "    algo = algos(x)\n",
    "    cfd = algo.cfd()\n",
    "    cfds.append(cfd)\n",
    "    #print(i,cfd)"
   ]
  },
  {
   "cell_type": "code",
   "execution_count": 4,
   "id": "b9ea6639",
   "metadata": {
    "scrolled": true
   },
   "outputs": [
    {
     "name": "stdout",
     "output_type": "stream",
     "text": [
      "2\n",
      "1\n"
     ]
    }
   ],
   "source": [
    "print(len(x_train.shape))\n",
    "print(len(x_train[0].shape))"
   ]
  },
  {
   "cell_type": "code",
   "execution_count": null,
   "id": "ea20c4a7",
   "metadata": {},
   "outputs": [],
   "source": []
  }
 ],
 "metadata": {
  "kernelspec": {
   "display_name": "Python 3",
   "language": "python",
   "name": "python3"
  },
  "language_info": {
   "codemirror_mode": {
    "name": "ipython",
    "version": 3
   },
   "file_extension": ".py",
   "mimetype": "text/x-python",
   "name": "python",
   "nbconvert_exporter": "python",
   "pygments_lexer": "ipython3",
   "version": "3.9.4"
  }
 },
 "nbformat": 4,
 "nbformat_minor": 5
}
